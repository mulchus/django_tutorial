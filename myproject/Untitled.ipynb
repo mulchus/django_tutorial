{
 "cells": [
  {
   "cell_type": "code",
   "execution_count": 9,
   "id": "bbc1c5b6-6eda-4324-b54e-ab476b1ee30a",
   "metadata": {},
   "outputs": [],
   "source": [
    "import os\n",
    "import django\n",
    "from datetime import datetime\n",
    "\n",
    "os.environ.setdefault('DJANGO_SETTINGS_MODULE', 'myproject.settings')\n",
    "django.setup()\n",
    "\n"
   ]
  },
  {
   "cell_type": "code",
   "execution_count": 10,
   "id": "44f186df-4d25-42c8-92dc-5bc976aed9f5",
   "metadata": {},
   "outputs": [],
   "source": [
    "from myapp.models import Item "
   ]
  },
  {
   "cell_type": "code",
   "execution_count": 11,
   "id": "116d90e3-a8a1-4040-acda-7842e9ffc705",
   "metadata": {},
   "outputs": [],
   "source": [
    "items = Item.objects.all()"
   ]
  },
  {
   "cell_type": "code",
   "execution_count": 12,
   "id": "83e69bba-2eb4-46c5-83ac-56cf3ac0d1f3",
   "metadata": {},
   "outputs": [
    {
     "name": "stdout",
     "output_type": "stream",
     "text": [
      "<QuerySet [<Item: 321>, <Item: 321>, <Item: 321>, <Item: 321>, <Item: 321>, <Item: 321>, <Item: 321,>, <Item: 123321>, <Item: Юрий>, <Item: 543321>, <Item: 543321>, <Item: 05-11>, <Item: 05-11>, <Item: 05-11>, <Item: 05-11>, <Item: <built-in method now of type object at 0x00007FFDC35C8990>>, <Item: 05-11-2024-22:06>, <Item: 05-11-2024-22:07>]>\n"
     ]
    }
   ],
   "source": [
    "print(items)"
   ]
  },
  {
   "cell_type": "code",
   "execution_count": null,
   "id": "a027f093-e67e-46cb-8b31-8e714c318cec",
   "metadata": {},
   "outputs": [],
   "source": []
  },
  {
   "cell_type": "code",
   "execution_count": 13,
   "id": "218907bc-2adb-4798-8317-8dcc8a49a9b2",
   "metadata": {},
   "outputs": [
    {
     "name": "stdout",
     "output_type": "stream",
     "text": [
      "18\n"
     ]
    }
   ],
   "source": [
    "print(len(items))"
   ]
  },
  {
   "cell_type": "code",
   "execution_count": 14,
   "id": "7e8b4c94-01d3-4904-b34b-88a2f9526ff0",
   "metadata": {},
   "outputs": [
    {
     "name": "stdout",
     "output_type": "stream",
     "text": [
      "321\n",
      "Описание\n",
      "321\n",
      "None\n",
      "321\n",
      "None\n",
      "321\n",
      "None\n",
      "321\n",
      "None\n",
      "321\n",
      "SomeDescription123\n",
      "321,\n",
      "None\n",
      "123321\n",
      "SomeDescription123\n",
      "Юрий\n",
      "У невролога 14 июня взять направление на аппаратное лечение зрения Вероники близорукость.\n",
      "543321\n",
      "SomeDescription123\n",
      "543321\n",
      "SomeDescription123\n",
      "05-11\n",
      "DJANGO_ALLOW_ASYNC_UNSAFE\n",
      "05-11\n",
      "DJANGO_ALLOW_ASYNC_UNSAFE\n",
      "05-11\n",
      "DJANGO_ALLOW_ASYNC_UNSAFE\n",
      "05-11\n",
      "DJANGO_ALLOW_ASYNC_UNSAFE\n",
      "<built-in method now of type object at 0x00007FFDC35C8990>\n",
      "DJANGO_ALLOW_ASYNC_UNSAFE\n",
      "05-11-2024-22:06\n",
      "DJANGO_ALLOW_ASYNC_UNSAFE\n",
      "05-11-2024-22:07\n",
      "DJANGO_ALLOW_ASYNC_UNSAFE\n"
     ]
    }
   ],
   "source": [
    "for item in items:\n",
    "    print(item.name)\n",
    "    print(item.description)"
   ]
  },
  {
   "cell_type": "code",
   "execution_count": 15,
   "id": "87c09fc0-9518-454b-8f79-f2a1948ae582",
   "metadata": {},
   "outputs": [
    {
     "name": "stdout",
     "output_type": "stream",
     "text": [
      "05-11-2024-22:08\n"
     ]
    }
   ],
   "source": [
    "print(datetime.now().strftime(\"%d-%m-%Y-%H:%M\"))"
   ]
  },
  {
   "cell_type": "code",
   "execution_count": 16,
   "id": "99007fd6-83ec-4c34-9d61-b42a8e73f07b",
   "metadata": {},
   "outputs": [
    {
     "data": {
      "text/plain": [
       "<Item: 05-11-2024-22:08>"
      ]
     },
     "execution_count": 16,
     "metadata": {},
     "output_type": "execute_result"
    }
   ],
   "source": [
    "Item.objects.create(name=datetime.now().strftime(\"%d-%m-%Y-%H:%M\"), description='DJANGO_ALLOW_ASYNC_UNSAFE')"
   ]
  },
  {
   "cell_type": "code",
   "execution_count": null,
   "id": "be7d5537-96fe-471d-91d0-e8616121bdf5",
   "metadata": {},
   "outputs": [],
   "source": []
  }
 ],
 "metadata": {
  "kernelspec": {
   "display_name": "Python 3 (ipykernel)",
   "language": "python",
   "name": "python3"
  },
  "language_info": {
   "codemirror_mode": {
    "name": "ipython",
    "version": 3
   },
   "file_extension": ".py",
   "mimetype": "text/x-python",
   "name": "python",
   "nbconvert_exporter": "python",
   "pygments_lexer": "ipython3",
   "version": "3.11.3"
  }
 },
 "nbformat": 4,
 "nbformat_minor": 5
}
